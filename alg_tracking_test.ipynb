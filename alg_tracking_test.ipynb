{
 "cells": [
  {
   "cell_type": "code",
   "execution_count": null,
   "metadata": {},
   "outputs": [],
   "source": [
    "from alg_tracking import *\n",
    "from utils import *\n",
    "from pprint import pprint\n",
    "import matplotlib.pyplot as plt \n"
   ]
  },
  {
   "cell_type": "code",
   "execution_count": null,
   "metadata": {},
   "outputs": [],
   "source": [
    "# images = load_images(1, -1)\n",
    "# img0 = images[0]\n",
    "# img1 = images[1]\n",
    "\n",
    "# thresh0 = binarize_and_optimize_image(img0, 80, 65535)\n",
    "# thresh1 = binarize_and_optimize_image(img1, 80, 65535)\n",
    "\n",
    "# ws_labels0 = apply_watershed(thresh0, 20)\n",
    "# ws_labels1 = apply_watershed(thresh1, 20) \n",
    "\n",
    "# label_info_list, ws_labels1_tracked = track_cells(ws_labels0, ws_labels1, 0.2)"
   ]
  },
  {
   "cell_type": "code",
   "execution_count": null,
   "metadata": {},
   "outputs": [],
   "source": [
    "# plt.figure(figsize=(30,10))\n",
    "# plt.subplot(1,3,1)\n",
    "# plt.imshow(ws_labels0)\n",
    "# plt.subplot(1,3,2)\n",
    "# plt.imshow(ws_labels1)\n",
    "# plt.subplot(1,3,3)\n",
    "# plt.imshow(ws_labels1_tracked)\n",
    "# plt.show()"
   ]
  },
  {
   "cell_type": "code",
   "execution_count": null,
   "metadata": {},
   "outputs": [],
   "source": [
    "# folder_num = 2\n",
    "# file_num = 0\n",
    "# input_path = \"Sequences/0\"+ str(folder_num)\n",
    "# output_path = \"Sequences_alg/0\"+ str(folder_num) + \"_alg_tra/\"\n",
    "\n",
    "# os.makedirs(output_path, exist_ok=True)\n",
    "\n",
    "# images = load_images(input_path, -1)\n",
    "# length = len(images)\n",
    "# pre_ws_labels = 0\n",
    "# used_labels = []\n",
    "\n",
    "# for img in images:\n",
    "\n",
    "#         if file_num == 0:\n",
    "#                 thresh0 = binarize_and_optimize_image(img, 90, 65535)\n",
    "#                 pre_ws_labels = apply_watershed(thresh0, 15)\n",
    "\n",
    "#         else:\n",
    "#                 thresh1 = binarize_and_optimize_image(img, 90, 65535)\n",
    "#                 ws_labels1 = apply_watershed(thresh1, 15) \n",
    "#                 label_info_list, ws_labels1_tracked = track_cells(pre_ws_labels, ws_labels1, 0.2, used_labels)\n",
    "#                 pre_ws_labels = ws_labels1_tracked\n",
    "\n",
    "#         filename = output_path + \"t{0:0=3d}\".format(file_num) + \".tif\"\n",
    "#         cv2.imwrite(filename, pre_ws_labels)\n",
    "#         file_num += 1\n",
    "#         print(str(file_num) + \"/\" + str(length) + \" - completed\" )\n"
   ]
  },
  {
   "cell_type": "code",
   "execution_count": null,
   "metadata": {},
   "outputs": [],
   "source": [
    "folder_num = 2\n",
    "file_num = 0\n",
    "input_path = \"Sequences_p/0\"+ str(folder_num) + \"_ml_pred\"\n",
    "output_path = \"Sequences_p/0\"+ str(folder_num) + \"_ml_pred_alg_tra/\"\n",
    "\n",
    "os.makedirs(output_path, exist_ok=True)\n",
    "\n",
    "images = load_images(input_path, -1)\n",
    "length = len(images)\n",
    "pre_ws_labels = 0\n",
    "used_labels = []\n",
    "minimal = -1\n",
    "maximum = -1\n",
    "\n",
    "for img in images:\n",
    "        img = remove_small_dots(img)\n",
    "        img = fill_small_holes(img)\n",
    "        if file_num == 0:\n",
    "                # thresh0 = binarize_and_optimize_image(img, 90, 65535)\n",
    "                pre_ws_labels = apply_watershed(img, 15)\n",
    "\n",
    "        else:\n",
    "                # thresh1 = binarize_and_optimize_image(img, 90, 65535)\n",
    "                ws_labels1 = apply_watershed(img, 15) \n",
    "                label_info_list, ws_labels1_tracked = track_cells(pre_ws_labels, ws_labels1, 0.2, used_labels)\n",
    "                pre_ws_labels = ws_labels1_tracked\n",
    "\n",
    "        minimal, maximum = find_extreme_value(pre_ws_labels)\n",
    "        filename = output_path + \"t{0:0=3d}\".format(file_num) + \".tif\"\n",
    "        cv2.imwrite(filename, pre_ws_labels)\n",
    "        file_num += 1\n",
    "        print(str(file_num) + \"/\" + str(length) + \" - completed, min: \" + str(minimal) + \" max: \" + str(maximum))\n"
   ]
  },
  {
   "cell_type": "code",
   "execution_count": null,
   "metadata": {},
   "outputs": [],
   "source": [
    "# to_gif(\"Sequences_p/02_ml_pred_alg_tra/\", \"02_ml_pred_alg_tra.gif\")"
   ]
  },
  {
   "cell_type": "code",
   "execution_count": null,
   "metadata": {},
   "outputs": [],
   "source": [
    "# tmp_img = cv2.imread(\"0.tif\", -1)\n",
    "\n",
    "\n",
    "# print(tmp_img)"
   ]
  }
 ],
 "metadata": {
  "interpreter": {
   "hash": "4e2e4c4319a6b39057450a45281a04213ed13a733ae1e90156a6458396280193"
  },
  "kernelspec": {
   "display_name": "Python 3.8.8 64-bit ('base': conda)",
   "name": "python3"
  },
  "language_info": {
   "codemirror_mode": {
    "name": "ipython",
    "version": 3
   },
   "file_extension": ".py",
   "mimetype": "text/x-python",
   "name": "python",
   "nbconvert_exporter": "python",
   "pygments_lexer": "ipython3",
   "version": "3.8.8"
  },
  "orig_nbformat": 4
 },
 "nbformat": 4,
 "nbformat_minor": 2
}
