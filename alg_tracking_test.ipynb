{
 "cells": [
  {
   "cell_type": "code",
   "execution_count": null,
   "metadata": {},
   "outputs": [],
   "source": [
    "from alg_tracking import *\n",
    "from utils import *\n",
    "from pprint import pprint\n",
    "import matplotlib.pyplot as plt \n"
   ]
  },
  {
   "cell_type": "code",
   "execution_count": null,
   "metadata": {},
   "outputs": [],
   "source": [
    "# images = load_images(1, -1)\n",
    "# img0 = images[0]\n",
    "# img1 = images[1]\n",
    "\n",
    "# thresh0 = binarize_and_optimize_image(img0, 80, 65535)\n",
    "# thresh1 = binarize_and_optimize_image(img1, 80, 65535)\n",
    "\n",
    "# ws_labels0 = apply_watershed(thresh0, 20)\n",
    "# ws_labels1 = apply_watershed(thresh1, 20) \n",
    "\n",
    "# label_info_list, ws_labels1_tracked = track_cells(ws_labels0, ws_labels1, 0.2)"
   ]
  },
  {
   "cell_type": "code",
   "execution_count": null,
   "metadata": {},
   "outputs": [],
   "source": [
    "# plt.figure(figsize=(30,10))\n",
    "# plt.subplot(1,3,1)\n",
    "# plt.imshow(ws_labels0)\n",
    "# plt.subplot(1,3,2)\n",
    "# plt.imshow(ws_labels1)\n",
    "# plt.subplot(1,3,3)\n",
    "# plt.imshow(ws_labels1_tracked)\n",
    "# plt.show()"
   ]
  },
  {
   "cell_type": "code",
   "execution_count": 16,
   "metadata": {},
   "outputs": [
    {
     "name": "stdout",
     "output_type": "stream",
     "text": [
      "1/92 - completed\n",
      "2/92 - completed\n",
      "3/92 - completed\n",
      "4/92 - completed\n",
      "5/92 - completed\n",
      "6/92 - completed\n",
      "7/92 - completed\n"
     ]
    },
    {
     "ename": "KeyboardInterrupt",
     "evalue": "",
     "output_type": "error",
     "traceback": [
      "\u001b[1;31m---------------------------------------------------------------------------\u001b[0m",
      "\u001b[1;31mKeyboardInterrupt\u001b[0m                         Traceback (most recent call last)",
      "\u001b[1;32m<ipython-input-16-3cdc0d310e69>\u001b[0m in \u001b[0;36m<module>\u001b[1;34m\u001b[0m\n\u001b[0;32m     16\u001b[0m \u001b[1;33m\u001b[0m\u001b[0m\n\u001b[0;32m     17\u001b[0m         \u001b[1;32melse\u001b[0m\u001b[1;33m:\u001b[0m\u001b[1;33m\u001b[0m\u001b[1;33m\u001b[0m\u001b[0m\n\u001b[1;32m---> 18\u001b[1;33m                 \u001b[0mthresh1\u001b[0m \u001b[1;33m=\u001b[0m \u001b[0mbinarize_and_optimize_image\u001b[0m\u001b[1;33m(\u001b[0m\u001b[0mimg\u001b[0m\u001b[1;33m,\u001b[0m \u001b[1;36m90\u001b[0m\u001b[1;33m,\u001b[0m \u001b[1;36m65535\u001b[0m\u001b[1;33m)\u001b[0m\u001b[1;33m\u001b[0m\u001b[1;33m\u001b[0m\u001b[0m\n\u001b[0m\u001b[0;32m     19\u001b[0m                 \u001b[0mws_labels1\u001b[0m \u001b[1;33m=\u001b[0m \u001b[0mapply_watershed\u001b[0m\u001b[1;33m(\u001b[0m\u001b[0mthresh1\u001b[0m\u001b[1;33m,\u001b[0m \u001b[1;36m15\u001b[0m\u001b[1;33m)\u001b[0m\u001b[1;33m\u001b[0m\u001b[1;33m\u001b[0m\u001b[0m\n\u001b[0;32m     20\u001b[0m                 \u001b[0mlabel_info_list\u001b[0m\u001b[1;33m,\u001b[0m \u001b[0mws_labels1_tracked\u001b[0m \u001b[1;33m=\u001b[0m \u001b[0mtrack_cells\u001b[0m\u001b[1;33m(\u001b[0m\u001b[0mpre_ws_labels\u001b[0m\u001b[1;33m,\u001b[0m \u001b[0mws_labels1\u001b[0m\u001b[1;33m,\u001b[0m \u001b[1;36m0.2\u001b[0m\u001b[1;33m)\u001b[0m\u001b[1;33m\u001b[0m\u001b[1;33m\u001b[0m\u001b[0m\n",
      "\u001b[1;32mc:\\Users\\Solar\\anaconda3\\COMP9517\\Git\\COMP9517_Project\\utils.py\u001b[0m in \u001b[0;36mbinarize_and_optimize_image\u001b[1;34m(img, relative_threshold_low, threshold_high)\u001b[0m\n\u001b[0;32m     56\u001b[0m \u001b[1;33m\u001b[0m\u001b[0m\n\u001b[0;32m     57\u001b[0m \u001b[1;32mdef\u001b[0m \u001b[0mbinarize_and_optimize_image\u001b[0m\u001b[1;33m(\u001b[0m\u001b[0mimg\u001b[0m\u001b[1;33m,\u001b[0m \u001b[0mrelative_threshold_low\u001b[0m\u001b[1;33m,\u001b[0m \u001b[0mthreshold_high\u001b[0m\u001b[1;33m)\u001b[0m\u001b[1;33m:\u001b[0m\u001b[1;33m\u001b[0m\u001b[1;33m\u001b[0m\u001b[0m\n\u001b[1;32m---> 58\u001b[1;33m     \u001b[0mlow\u001b[0m\u001b[1;33m,\u001b[0m \u001b[0mhigh\u001b[0m \u001b[1;33m=\u001b[0m \u001b[0mfind_extreme_value\u001b[0m\u001b[1;33m(\u001b[0m\u001b[0mimg\u001b[0m\u001b[1;33m)\u001b[0m\u001b[1;33m\u001b[0m\u001b[1;33m\u001b[0m\u001b[0m\n\u001b[0m\u001b[0;32m     59\u001b[0m     \u001b[0mthresh\u001b[0m \u001b[1;33m=\u001b[0m \u001b[0mcv2\u001b[0m\u001b[1;33m.\u001b[0m\u001b[0mthreshold\u001b[0m\u001b[1;33m(\u001b[0m\u001b[0mimg\u001b[0m\u001b[1;33m,\u001b[0m \u001b[0mlow\u001b[0m \u001b[1;33m+\u001b[0m \u001b[0mrelative_threshold_low\u001b[0m\u001b[1;33m,\u001b[0m \u001b[0mthreshold_high\u001b[0m\u001b[1;33m,\u001b[0m \u001b[0mcv2\u001b[0m\u001b[1;33m.\u001b[0m\u001b[0mTHRESH_BINARY\u001b[0m\u001b[1;33m)\u001b[0m\u001b[1;33m[\u001b[0m\u001b[1;36m1\u001b[0m\u001b[1;33m]\u001b[0m\u001b[1;33m\u001b[0m\u001b[1;33m\u001b[0m\u001b[0m\n\u001b[0;32m     60\u001b[0m     \u001b[0mthresh\u001b[0m \u001b[1;33m=\u001b[0m \u001b[0mremove_small_dots\u001b[0m\u001b[1;33m(\u001b[0m\u001b[0mthresh\u001b[0m\u001b[1;33m)\u001b[0m\u001b[1;33m\u001b[0m\u001b[1;33m\u001b[0m\u001b[0m\n",
      "\u001b[1;32mc:\\Users\\Solar\\anaconda3\\COMP9517\\Git\\COMP9517_Project\\utils.py\u001b[0m in \u001b[0;36mfind_extreme_value\u001b[1;34m(img)\u001b[0m\n\u001b[0;32m     72\u001b[0m     \u001b[1;32mfor\u001b[0m \u001b[0mx\u001b[0m \u001b[1;32min\u001b[0m \u001b[0mrange\u001b[0m\u001b[1;33m(\u001b[0m\u001b[0mimg\u001b[0m\u001b[1;33m.\u001b[0m\u001b[0mshape\u001b[0m\u001b[1;33m[\u001b[0m\u001b[1;36m0\u001b[0m\u001b[1;33m]\u001b[0m\u001b[1;33m)\u001b[0m\u001b[1;33m:\u001b[0m\u001b[1;33m\u001b[0m\u001b[1;33m\u001b[0m\u001b[0m\n\u001b[0;32m     73\u001b[0m         \u001b[1;32mfor\u001b[0m \u001b[0my\u001b[0m \u001b[1;32min\u001b[0m \u001b[0mrange\u001b[0m\u001b[1;33m(\u001b[0m\u001b[0mimg\u001b[0m\u001b[1;33m.\u001b[0m\u001b[0mshape\u001b[0m\u001b[1;33m[\u001b[0m\u001b[1;36m1\u001b[0m\u001b[1;33m]\u001b[0m\u001b[1;33m)\u001b[0m\u001b[1;33m:\u001b[0m\u001b[1;33m\u001b[0m\u001b[1;33m\u001b[0m\u001b[0m\n\u001b[1;32m---> 74\u001b[1;33m                 \u001b[1;32mif\u001b[0m \u001b[0mimg\u001b[0m\u001b[1;33m[\u001b[0m\u001b[0mx\u001b[0m\u001b[1;33m,\u001b[0m\u001b[0my\u001b[0m\u001b[1;33m]\u001b[0m \u001b[1;33m<\u001b[0m \u001b[0mc\u001b[0m\u001b[1;33m:\u001b[0m\u001b[1;33m\u001b[0m\u001b[1;33m\u001b[0m\u001b[0m\n\u001b[0m\u001b[0;32m     75\u001b[0m                     \u001b[0mc\u001b[0m \u001b[1;33m=\u001b[0m \u001b[0mimg\u001b[0m\u001b[1;33m[\u001b[0m\u001b[0mx\u001b[0m\u001b[1;33m,\u001b[0m\u001b[0my\u001b[0m\u001b[1;33m]\u001b[0m\u001b[1;33m\u001b[0m\u001b[1;33m\u001b[0m\u001b[0m\n\u001b[0;32m     76\u001b[0m                 \u001b[1;32mif\u001b[0m \u001b[0mimg\u001b[0m\u001b[1;33m[\u001b[0m\u001b[0mx\u001b[0m\u001b[1;33m,\u001b[0m\u001b[0my\u001b[0m\u001b[1;33m]\u001b[0m \u001b[1;33m>\u001b[0m \u001b[0md\u001b[0m\u001b[1;33m:\u001b[0m\u001b[1;33m\u001b[0m\u001b[1;33m\u001b[0m\u001b[0m\n",
      "\u001b[1;31mKeyboardInterrupt\u001b[0m: "
     ]
    }
   ],
   "source": [
    "# folder_num = 1\n",
    "# file_num = 0\n",
    "# input_path = \"Sequences/0\"+ str(folder_num)\n",
    "# output_path = \"Sequences_alg/0\"+ str(folder_num) + \"_alg_tra/\"\n",
    "\n",
    "# os.makedirs(output_path, exist_ok=True)\n",
    "\n",
    "# images = load_images(input_path, -1)\n",
    "# length = len(images)\n",
    "# pre_ws_labels = 0\n",
    "# for img in images:\n",
    "\n",
    "#         if file_num == 0:\n",
    "#                 thresh0 = binarize_and_optimize_image(img, 90, 65535)\n",
    "#                 pre_ws_labels = apply_watershed(thresh0, 15)\n",
    "\n",
    "#         else:\n",
    "#                 thresh1 = binarize_and_optimize_image(img, 90, 65535)\n",
    "#                 ws_labels1 = apply_watershed(thresh1, 15) \n",
    "#                 label_info_list, ws_labels1_tracked = track_cells(pre_ws_labels, ws_labels1, 0.2)\n",
    "#                 pre_ws_labels = ws_labels1_tracked\n",
    "\n",
    "#         filename = output_path + str(file_num) + \".tif\"\n",
    "#         cv2.imwrite(filename, pre_ws_labels)\n",
    "#         file_num += 1\n",
    "#         print(str(file_num) + \"/\" + str(length) + \" - completed\" )\n"
   ]
  },
  {
   "cell_type": "code",
   "execution_count": null,
   "metadata": {},
   "outputs": [],
   "source": [
    "folder_num = 2\n",
    "file_num = 0\n",
    "input_path = \"Sequences_p/0\"+ str(folder_num) + \"_ml_pred\"\n",
    "output_path = \"Sequences_p/0\"+ str(folder_num) + \"_ml_pred_alg_tra/\"\n",
    "\n",
    "os.makedirs(output_path, exist_ok=True)\n",
    "\n",
    "images = load_images(input_path, -1)\n",
    "length = len(images)\n",
    "pre_ws_labels = 0\n",
    "for img in images:\n",
    "\n",
    "        if file_num == 0:\n",
    "                # thresh0 = binarize_and_optimize_image(img, 90, 65535)\n",
    "                pre_ws_labels = apply_watershed(img, 15)\n",
    "\n",
    "        else:\n",
    "                # thresh1 = binarize_and_optimize_image(img, 90, 65535)\n",
    "                ws_labels1 = apply_watershed(img, 15) \n",
    "                label_info_list, ws_labels1_tracked = track_cells(pre_ws_labels, ws_labels1, 0.2)\n",
    "                pre_ws_labels = ws_labels1_tracked\n",
    "\n",
    "        filename = output_path + str(file_num) + \".tif\"\n",
    "        cv2.imwrite(filename, pre_ws_labels)\n",
    "        file_num += 1\n",
    "        print(str(file_num) + \"/\" + str(length) + \" - completed\" )\n"
   ]
  },
  {
   "cell_type": "code",
   "execution_count": 10,
   "metadata": {},
   "outputs": [],
   "source": [
    "# to_gif(\"Sequences_p/02_ml_pred_alg_tra/\", \"02_ml_pred_alg_tra.gif\")"
   ]
  },
  {
   "cell_type": "code",
   "execution_count": 18,
   "metadata": {},
   "outputs": [
    {
     "name": "stdout",
     "output_type": "stream",
     "text": [
      "[[0 0 0 ... 0 0 0]\n",
      " [0 0 0 ... 0 0 0]\n",
      " [0 0 0 ... 0 0 0]\n",
      " ...\n",
      " [0 0 0 ... 0 0 0]\n",
      " [0 0 0 ... 0 0 0]\n",
      " [0 0 0 ... 0 0 0]]\n"
     ]
    }
   ],
   "source": [
    "# tmp_img = cv2.imread(\"0.tif\", -1)\n",
    "\n",
    "\n",
    "# print(tmp_img)"
   ]
  }
 ],
 "metadata": {
  "interpreter": {
   "hash": "4e2e4c4319a6b39057450a45281a04213ed13a733ae1e90156a6458396280193"
  },
  "kernelspec": {
   "display_name": "Python 3.8.8 64-bit ('base': conda)",
   "name": "python3"
  },
  "language_info": {
   "codemirror_mode": {
    "name": "ipython",
    "version": 3
   },
   "file_extension": ".py",
   "mimetype": "text/x-python",
   "name": "python",
   "nbconvert_exporter": "python",
   "pygments_lexer": "ipython3",
   "version": "3.8.8"
  },
  "orig_nbformat": 4
 },
 "nbformat": 4,
 "nbformat_minor": 2
}
