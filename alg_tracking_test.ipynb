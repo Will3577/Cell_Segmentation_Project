{
 "cells": [
  {
   "cell_type": "code",
   "execution_count": 1,
   "metadata": {},
   "outputs": [],
   "source": [
    "from alg_tracking import *\n",
    "from utils import *\n",
    "from pprint import pprint\n",
    "import numpy as np\n",
    "import matplotlib.pyplot as plt \n"
   ]
  },
  {
   "cell_type": "code",
   "execution_count": 2,
   "metadata": {},
   "outputs": [],
   "source": [
    "# folder_num = 2\n",
    "# file_num = 0\n",
    "# input_path = \"Sequences/0\"+ str(folder_num)\n",
    "# output_path = \"Sequences/0\"+ str(folder_num) + \"_alg_tra/\"\n",
    "\n",
    "# # input_path = \"Sequences_p/0\"+ str(folder_num) + \"_ml_pred/\"\n",
    "# # output_path = \"Sequences_p/0\"+ str(folder_num) + \"_ml_pred_alg_tra/\"\n",
    "\n",
    "# os.makedirs(output_path, exist_ok=True)\n",
    "\n",
    "# images = load_images(input_path, -1)\n",
    "# length = len(images)\n",
    "# pre_ws_labels = 0\n",
    "# used_labels = []\n",
    "# minimal = -1\n",
    "# maximum = -1\n",
    "\n",
    "# for img in images:\n",
    "#         # img = remove_small_dots(img)\n",
    "#         # img = fill_small_holes(img)\n",
    "#         if file_num == 0:\n",
    "#                 img = binarize_and_optimize_image(img, 90, 65535)\n",
    "#                 pre_ws_labels = apply_watershed(img, 15)\n",
    "\n",
    "#         else:\n",
    "#                 img = binarize_and_optimize_image(img, 90 , 65535)\n",
    "#                 ws_labels1 = apply_watershed(img, 15) \n",
    "#                 label_info_list, ws_labels1_tracked = track_cells(pre_ws_labels, ws_labels1, 0.2, used_labels)\n",
    "#                 pre_ws_labels = ws_labels1_tracked\n",
    "\n",
    "#         minimal, maximum = find_extreme_value(pre_ws_labels)\n",
    "#         pre_ws_labels = pre_ws_labels.astype(np.uint16)\n",
    "\n",
    "#         filename = output_path + \"t{0:0=3d}\".format(file_num) + \".tif\"\n",
    "#         plt.imshow(pre_ws_labels,cmap='gray')\n",
    "#         plt.show()\n",
    "\n",
    "#         cv2.imwrite(filename, pre_ws_labels)\n",
    "#         file_num += 1\n",
    "#         print(str(file_num) + \"/\" + str(length) + \" - completed, min: \" + str(minimal) + \" max: \" + str(maximum))\n"
   ]
  },
  {
   "cell_type": "code",
   "execution_count": 3,
   "metadata": {},
   "outputs": [
    {
     "ename": "TypeError",
     "evalue": "listdir: path should be string, bytes, os.PathLike or None, not list",
     "output_type": "error",
     "traceback": [
      "\u001b[1;31m---------------------------------------------------------------------------\u001b[0m",
      "\u001b[1;31mTypeError\u001b[0m                                 Traceback (most recent call last)",
      "\u001b[1;32m<ipython-input-3-3bb8bae016ec>\u001b[0m in \u001b[0;36m<module>\u001b[1;34m\u001b[0m\n\u001b[0;32m      2\u001b[0m \u001b[0moutput_path\u001b[0m \u001b[1;33m=\u001b[0m \u001b[1;34m\"Sequences_p/02_ml_pred_alg_tra/\"\u001b[0m\u001b[1;33m\u001b[0m\u001b[1;33m\u001b[0m\u001b[0m\n\u001b[0;32m      3\u001b[0m \u001b[0mis_thresh\u001b[0m \u001b[1;33m=\u001b[0m \u001b[1;32mTrue\u001b[0m\u001b[1;33m\u001b[0m\u001b[1;33m\u001b[0m\u001b[0m\n\u001b[1;32m----> 4\u001b[1;33m \u001b[0mtrack_cells_in_folder\u001b[0m\u001b[1;33m(\u001b[0m\u001b[0minput_path\u001b[0m\u001b[1;33m,\u001b[0m \u001b[0moutput_path\u001b[0m\u001b[1;33m,\u001b[0m \u001b[0mis_thresh\u001b[0m\u001b[1;33m)\u001b[0m\u001b[1;33m\u001b[0m\u001b[1;33m\u001b[0m\u001b[0m\n\u001b[0m",
      "\u001b[1;32mc:\\Users\\Solar\\anaconda3\\COMP9517\\Git\\COMP9517_Project\\alg_tracking.py\u001b[0m in \u001b[0;36mtrack_cells_in_folder\u001b[1;34m(input_path, output_path, is_thresh)\u001b[0m\n\u001b[0;32m     16\u001b[0m     \u001b[0mos\u001b[0m\u001b[1;33m.\u001b[0m\u001b[0mmakedirs\u001b[0m\u001b[1;33m(\u001b[0m\u001b[0moutput_path\u001b[0m\u001b[1;33m,\u001b[0m \u001b[0mexist_ok\u001b[0m\u001b[1;33m=\u001b[0m\u001b[1;32mTrue\u001b[0m\u001b[1;33m)\u001b[0m\u001b[1;33m\u001b[0m\u001b[1;33m\u001b[0m\u001b[0m\n\u001b[0;32m     17\u001b[0m \u001b[1;33m\u001b[0m\u001b[0m\n\u001b[1;32m---> 18\u001b[1;33m     \u001b[0mimages\u001b[0m \u001b[1;33m=\u001b[0m \u001b[0mload_images\u001b[0m\u001b[1;33m(\u001b[0m\u001b[0minput_path\u001b[0m\u001b[1;33m,\u001b[0m \u001b[1;33m-\u001b[0m\u001b[1;36m1\u001b[0m\u001b[1;33m)\u001b[0m\u001b[1;33m\u001b[0m\u001b[1;33m\u001b[0m\u001b[0m\n\u001b[0m\u001b[0;32m     19\u001b[0m     \u001b[0mlength\u001b[0m \u001b[1;33m=\u001b[0m \u001b[0mlen\u001b[0m\u001b[1;33m(\u001b[0m\u001b[0mimages\u001b[0m\u001b[1;33m)\u001b[0m\u001b[1;33m\u001b[0m\u001b[1;33m\u001b[0m\u001b[0m\n\u001b[0;32m     20\u001b[0m     \u001b[0mpre_ws_labels\u001b[0m \u001b[1;33m=\u001b[0m \u001b[1;36m0\u001b[0m\u001b[1;33m\u001b[0m\u001b[1;33m\u001b[0m\u001b[0m\n",
      "\u001b[1;32mc:\\Users\\Solar\\anaconda3\\COMP9517\\Git\\COMP9517_Project\\utils.py\u001b[0m in \u001b[0;36mload_images\u001b[1;34m(pathname, flag)\u001b[0m\n\u001b[0;32m     21\u001b[0m     \u001b[0mimg_list\u001b[0m \u001b[1;33m=\u001b[0m \u001b[1;33m[\u001b[0m\u001b[1;33m]\u001b[0m\u001b[1;33m\u001b[0m\u001b[1;33m\u001b[0m\u001b[0m\n\u001b[0;32m     22\u001b[0m     \u001b[0mfilenames\u001b[0m \u001b[1;33m=\u001b[0m \u001b[0msorted\u001b[0m\u001b[1;33m(\u001b[0m\u001b[0mos\u001b[0m\u001b[1;33m.\u001b[0m\u001b[0mlistdir\u001b[0m\u001b[1;33m(\u001b[0m\u001b[0mpathname\u001b[0m\u001b[1;33m)\u001b[0m\u001b[1;33m)\u001b[0m\u001b[1;33m\u001b[0m\u001b[1;33m\u001b[0m\u001b[0m\n\u001b[1;32m---> 23\u001b[1;33m     \u001b[1;32mfor\u001b[0m \u001b[0mfile\u001b[0m \u001b[1;32min\u001b[0m \u001b[0mos\u001b[0m\u001b[1;33m.\u001b[0m\u001b[0mlistdir\u001b[0m\u001b[1;33m(\u001b[0m\u001b[0mfilenames\u001b[0m\u001b[1;33m)\u001b[0m\u001b[1;33m:\u001b[0m\u001b[1;33m\u001b[0m\u001b[1;33m\u001b[0m\u001b[0m\n\u001b[0m\u001b[0;32m     24\u001b[0m         \u001b[0mimg\u001b[0m \u001b[1;33m=\u001b[0m \u001b[0mcv2\u001b[0m\u001b[1;33m.\u001b[0m\u001b[0mimread\u001b[0m\u001b[1;33m(\u001b[0m\u001b[1;33m(\u001b[0m\u001b[0mos\u001b[0m\u001b[1;33m.\u001b[0m\u001b[0mpath\u001b[0m\u001b[1;33m.\u001b[0m\u001b[0mjoin\u001b[0m\u001b[1;33m(\u001b[0m\u001b[0mpathname\u001b[0m\u001b[1;33m,\u001b[0m \u001b[0mfile\u001b[0m\u001b[1;33m)\u001b[0m\u001b[1;33m)\u001b[0m\u001b[1;33m,\u001b[0m \u001b[0mflag\u001b[0m\u001b[1;33m)\u001b[0m\u001b[1;33m\u001b[0m\u001b[1;33m\u001b[0m\u001b[0m\n\u001b[0;32m     25\u001b[0m         \u001b[0mimg_list\u001b[0m\u001b[1;33m.\u001b[0m\u001b[0mappend\u001b[0m\u001b[1;33m(\u001b[0m\u001b[0mimg\u001b[0m\u001b[1;33m)\u001b[0m\u001b[1;33m\u001b[0m\u001b[1;33m\u001b[0m\u001b[0m\n",
      "\u001b[1;31mTypeError\u001b[0m: listdir: path should be string, bytes, os.PathLike or None, not list"
     ]
    }
   ],
   "source": [
    "input_path = \"Sequences_p/02_ml_pred/\"\n",
    "output_path = \"Sequences_p/02_ml_pred_alg_tra/\"\n",
    "is_thresh = True\n",
    "track_cells_in_folder(input_path, output_path, is_thresh)"
   ]
  },
  {
   "cell_type": "code",
   "execution_count": null,
   "metadata": {},
   "outputs": [],
   "source": [
    "# to_gif(\"Sequences_p/02_ml_pred_alg_tra/\", \"02_ml_pred_alg_tra.gif\")"
   ]
  },
  {
   "cell_type": "code",
   "execution_count": null,
   "metadata": {},
   "outputs": [],
   "source": [
    "# cv2.imwrite?\n",
    "# tmp_img=cv2.imread(\"t080.tif\", -1)\n",
    "# low, high = find_extreme_value(tmp_img)\n",
    "# print(low, high)"
   ]
  }
 ],
 "metadata": {
  "interpreter": {
   "hash": "4e2e4c4319a6b39057450a45281a04213ed13a733ae1e90156a6458396280193"
  },
  "kernelspec": {
   "display_name": "Python 3.8.8 64-bit ('base': conda)",
   "name": "python3"
  },
  "language_info": {
   "codemirror_mode": {
    "name": "ipython",
    "version": 3
   },
   "file_extension": ".py",
   "mimetype": "text/x-python",
   "name": "python",
   "nbconvert_exporter": "python",
   "pygments_lexer": "ipython3",
   "version": "3.8.8"
  },
  "orig_nbformat": 4
 },
 "nbformat": 4,
 "nbformat_minor": 2
}
