{
 "cells": [
  {
   "cell_type": "code",
   "execution_count": null,
   "metadata": {},
   "outputs": [],
   "source": [
    "import sys\n",
    "sys.path.append('..')\n",
    "\n",
    "from alg_tracking import *\n",
    "from utils import *\n",
    "from pprint import pprint\n",
    "import numpy as np\n",
    "import matplotlib.pyplot as plt \n"
   ]
  },
  {
   "cell_type": "code",
   "execution_count": null,
   "metadata": {},
   "outputs": [],
   "source": [
    "\n",
    "cell_count_pathname = \"../Sequences_p/cell_count/\"\n",
    "average_size_pathname = \"../Sequences_p/average_size/\"\n",
    "os.makedirs(cell_count_pathname, exist_ok=True)\n",
    "os.makedirs(average_size_pathname, exist_ok=True)\n",
    "\n",
    "for i in range(1, 1):\n",
    "    pathname = \"../Sequences_p/ml_pred_alg_tra/0\" + str(i)\n",
    "    cell_count_list = get_cell_count_list(pathname)\n",
    "    average_size_list = get_average_size_list(pathname)\n",
    "\n",
    "    cell_count_txt = open(cell_count_pathname + \"0\" + str(i) + \".txt\", \"w\")\n",
    "    average_size_txt = open(average_size_pathname + \"0\" + str(i) + \".txt\", \"w\")\n",
    "\n",
    "    for element in cell_count_list:\n",
    "        cell_count_txt.write(str(element) + \"\\n\")\n",
    "\n",
    "    for element in average_size_list:\n",
    "        average_size_txt.write(str(element) + \"\\n\")\n",
    "\n",
    "    cell_count_txt.close()\n",
    "    average_size_txt.close()\n"
   ]
  }
 ],
 "metadata": {
  "language_info": {
   "name": "python"
  },
  "orig_nbformat": 4
 },
 "nbformat": 4,
 "nbformat_minor": 2
}
