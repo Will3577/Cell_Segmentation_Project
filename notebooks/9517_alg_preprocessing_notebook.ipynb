{
 "cells": [
  {
   "cell_type": "code",
   "execution_count": 1,
   "metadata": {},
   "outputs": [],
   "source": [
    "import sys\n",
    "sys.path.append('..')\n",
    "\n",
    "from utils import *\n",
    "import matplotlib.pyplot as plt \n",
    "import cv2"
   ]
  },
  {
   "cell_type": "code",
   "execution_count": 2,
   "metadata": {},
   "outputs": [],
   "source": [
    "for i in range(1,5):\n",
    "    input_path = \"../Sequences/0\"+str(i)+\"/\"\n",
    "    output_path = \"../Sequences_p/pseudo_masks/0\"+str(i)+\"/\"\n",
    "    images = load_images(input_path, -1)\n",
    "    output_images = []\n",
    "    for image in images:\n",
    "        \n",
    "        img = binarize_and_optimize_image(image, 92, 65535, r_small_dots=True, f_small_holes=True, r_border=False)\n",
    "        output_images.append(img)\n",
    "\n",
    "    export_images(output_path, output_images)"
   ]
  }
 ],
 "metadata": {
  "interpreter": {
   "hash": "4e2e4c4319a6b39057450a45281a04213ed13a733ae1e90156a6458396280193"
  },
  "kernelspec": {
   "display_name": "Python 3.8.8 64-bit ('base': conda)",
   "name": "python3"
  },
  "language_info": {
   "codemirror_mode": {
    "name": "ipython",
    "version": 3
   },
   "file_extension": ".py",
   "mimetype": "text/x-python",
   "name": "python",
   "nbconvert_exporter": "python",
   "pygments_lexer": "ipython3",
   "version": "3.8.8"
  },
  "orig_nbformat": 4
 },
 "nbformat": 4,
 "nbformat_minor": 2
}
