{
 "cells": [
  {
   "cell_type": "code",
   "execution_count": null,
   "metadata": {},
   "outputs": [],
   "source": [
    "import sys\n",
    "sys.path.append('..')\n",
    "\n",
    "from utils import *\n",
    "import matplotlib.pyplot as plt \n",
    "import cv2"
   ]
  },
  {
   "cell_type": "code",
   "execution_count": null,
   "metadata": {},
   "outputs": [],
   "source": [
    "# img = cv2.imread(\"../t000.tif\", -1)\n",
    "# img = cv2.GaussianBlur(img, (15,15), cv2.BORDER_DEFAULT)\n",
    "# low, high = find_extreme_value(img)\n",
    "# img = cv2.threshold(img, low + 40, 65535, cv2.THRESH_BINARY)[1]\n",
    "# cv2.imwrite(\"../t001_blured.tif\", img)"
   ]
  },
  {
   "cell_type": "code",
   "execution_count": null,
   "metadata": {},
   "outputs": [],
   "source": [
    "for i in range(1,5):\n",
    "    input_path = \"../Sequences/0\"+str(i)+\"/\"\n",
    "    output_path = \"../Sequences_p/pseudo_masks/0\"+str(i)+\"/\"\n",
    "    images = load_images(input_path, -1)\n",
    "    output_images = []\n",
    "\n",
    "    k = 0\n",
    "    for image in images:\n",
    "        \n",
    "        img = binarize_and_optimize_image(image, 201, 65535, gaussian_blur=True, r_small_dots=True, f_small_holes=False, r_border=False)\n",
    "        output_images.append(img)\n",
    "        print(\"image\" + str(k))\n",
    "        k += 1\n",
    "\n",
    "    export_images(output_path, output_images)\n",
    "    print(i)"
   ]
  }
 ],
 "metadata": {
  "interpreter": {
   "hash": "4e2e4c4319a6b39057450a45281a04213ed13a733ae1e90156a6458396280193"
  },
  "kernelspec": {
   "display_name": "Python 3.8.8 64-bit ('base': conda)",
   "name": "python3"
  },
  "language_info": {
   "codemirror_mode": {
    "name": "ipython",
    "version": 3
   },
   "file_extension": ".py",
   "mimetype": "text/x-python",
   "name": "python",
   "nbconvert_exporter": "python",
   "pygments_lexer": "ipython3",
   "version": "3.8.8"
  },
  "orig_nbformat": 4
 },
 "nbformat": 4,
 "nbformat_minor": 2
}
