{
 "cells": [
  {
   "cell_type": "code",
   "execution_count": 1,
   "metadata": {},
   "outputs": [],
   "source": [
    "import sys\n",
    "sys.path.append('..')\n",
    "\n",
    "from alg_tracking import *\n",
    "from utils import *\n",
    "from pprint import pprint\n",
    "import numpy as np\n",
    "import matplotlib.pyplot as plt \n"
   ]
  },
  {
   "cell_type": "code",
   "execution_count": null,
   "metadata": {},
   "outputs": [],
   "source": [
    "for i in range(1,5):\n",
    "    input_path = \"../Sequences_p/ml_pred/0\"+str(i)+\"/\"\n",
    "    output_path = \"../Sequences_p/ml_pred_alg_tra/0\"+str(i)+\"/\"\n",
    "    is_thresh = True\n",
    "    track_cells_in_folder(input_path, output_path, is_thresh)"
   ]
  },
  {
   "cell_type": "code",
   "execution_count": 2,
   "metadata": {},
   "outputs": [
    {
     "name": "stdout",
     "output_type": "stream",
     "text": [
      "[131, 141, 150, 145, 156, 155, 163, 161, 169, 169, 176, 178, 184, 185, 188, 190, 190, 189, 194, 197, 202, 202, 205, 209, 214, 213, 221, 223, 224, 228, 235, 241, 250, 257, 255, 258, 266, 275, 284, 288, 296, 304, 309, 311, 309, 311, 314, 318, 320, 324, 330, 324, 334, 335, 335, 334, 334, 338, 346, 349, 351, 352, 347, 348, 349, 355, 357, 356, 363, 364, 368, 367, 362, 364, 364, 359, 356, 363, 356, 358, 354, 358, 362, 361, 348, 358, 357, 363, 355, 363, 362, 355] [633, 632, 637, 646, 623, 624, 614, 648, 638, 646, 630, 637, 633, 639, 641, 651, 659, 656, 654, 654, 656, 658, 661, 671, 711, 663, 666, 664, 660, 677, 646, 646, 637, 629, 633, 641, 620, 614, 594, 597, 595, 589, 589, 628, 609, 610, 611, 609, 615, 607, 613, 621, 616, 622, 617, 620, 622, 615, 612, 611, 610, 612, 631, 626, 632, 617, 627, 632, 631, 629, 625, 636, 633, 645, 645, 652, 646, 639, 655, 663, 668, 656, 662, 652, 668, 654, 661, 658, 666, 661, 667, 673]\n"
     ]
    }
   ],
   "source": [
    "pathname = \"../Sequences_p/ml_pred_alg_tra/02\"\n",
    "cell_count_list = get_cell_count_list(pathname)\n",
    "average_size_list = get_average_size_list(pathname)\n",
    "\n",
    "print(cell_count_list)\n",
    "print(average_size_list)"
   ]
  }
 ],
 "metadata": {
  "interpreter": {
   "hash": "4e2e4c4319a6b39057450a45281a04213ed13a733ae1e90156a6458396280193"
  },
  "kernelspec": {
   "display_name": "Python 3.8.8 64-bit ('base': conda)",
   "name": "python3"
  },
  "language_info": {
   "codemirror_mode": {
    "name": "ipython",
    "version": 3
   },
   "file_extension": ".py",
   "mimetype": "text/x-python",
   "name": "python",
   "nbconvert_exporter": "python",
   "pygments_lexer": "ipython3",
   "version": "3.8.8"
  },
  "orig_nbformat": 4
 },
 "nbformat": 4,
 "nbformat_minor": 2
}
