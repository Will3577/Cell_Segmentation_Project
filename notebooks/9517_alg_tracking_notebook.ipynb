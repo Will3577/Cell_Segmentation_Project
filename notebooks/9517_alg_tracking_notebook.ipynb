{
 "cells": [
  {
   "cell_type": "code",
   "execution_count": 4,
   "metadata": {},
   "outputs": [],
   "source": [
    "import sys\n",
    "sys.path.append('..')\n",
    "\n",
    "from alg_tracking import *\n",
    "from utils import *\n",
    "from pprint import pprint\n",
    "import numpy as np\n",
    "import matplotlib.pyplot as plt \n"
   ]
  },
  {
   "cell_type": "code",
   "execution_count": null,
   "metadata": {},
   "outputs": [],
   "source": [
    "for i in range(1,5):\n",
    "    input_path = \"../Sequences_p/ml_pred/0\"+str(i)+\"/\"\n",
    "    output_path = \"../Sequences_p/ml_pred_alg_tra/0\"+str(i)+\"/\"\n",
    "    is_thresh = True\n",
    "    track_cells_in_folder(input_path, output_path, is_thresh)"
   ]
  },
  {
   "cell_type": "code",
   "execution_count": 8,
   "metadata": {},
   "outputs": [],
   "source": [
    "\n",
    "cell_count_pathname = \"../Sequences_p/cell_count/\"\n",
    "average_size_pathname = \"../Sequences_p/average_size/\"\n",
    "os.makedirs(cell_count_pathname, exist_ok=True)\n",
    "os.makedirs(average_size_pathname, exist_ok=True)\n",
    "\n",
    "for i in range(1, 5):\n",
    "    pathname = \"../Sequences_p/ml_pred_alg_tra/0\" + str(i)\n",
    "    cell_count_list = get_cell_count_list(pathname)\n",
    "    average_size_list = get_average_size_list(pathname)\n",
    "\n",
    "    cell_count_txt = open(cell_count_pathname + \"0\" + str(i) + \".txt\", \"w\")\n",
    "    average_size_txt = open(average_size_pathname + \"0\" + str(i) + \".txt\", \"w\")\n",
    "\n",
    "    for element in cell_count_list:\n",
    "        cell_count_txt.write(str(element) + \"\\n\")\n",
    "\n",
    "    for element in average_size_list:\n",
    "        average_size_txt.write(str(element) + \"\\n\")\n",
    "\n",
    "    cell_count_txt.close()\n",
    "    average_size_txt.close()\n"
   ]
  },
  {
   "cell_type": "code",
   "execution_count": 37,
   "metadata": {},
   "outputs": [
    {
     "data": {
      "text/plain": [
       "True"
      ]
     },
     "execution_count": 37,
     "metadata": {},
     "output_type": "execute_result"
    }
   ],
   "source": []
  }
 ],
 "metadata": {
  "interpreter": {
   "hash": "4e2e4c4319a6b39057450a45281a04213ed13a733ae1e90156a6458396280193"
  },
  "kernelspec": {
   "display_name": "Python 3.8.8 64-bit ('base': conda)",
   "name": "python3"
  },
  "language_info": {
   "codemirror_mode": {
    "name": "ipython",
    "version": 3
   },
   "file_extension": ".py",
   "mimetype": "text/x-python",
   "name": "python",
   "nbconvert_exporter": "python",
   "pygments_lexer": "ipython3",
   "version": "3.8.8"
  },
  "orig_nbformat": 4
 },
 "nbformat": 4,
 "nbformat_minor": 2
}
