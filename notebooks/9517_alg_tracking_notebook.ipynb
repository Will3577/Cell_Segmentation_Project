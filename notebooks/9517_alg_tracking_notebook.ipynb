{
 "cells": [
  {
   "cell_type": "code",
   "execution_count": null,
   "metadata": {},
   "outputs": [],
   "source": [
    "import sys\n",
    "sys.path.append('..')\n",
    "\n",
    "from alg_tracking import *\n",
    "from utils import *\n",
    "from pprint import pprint\n",
    "import numpy as np\n",
    "import matplotlib.pyplot as plt \n"
   ]
  },
  {
   "cell_type": "code",
   "execution_count": null,
   "metadata": {},
   "outputs": [],
   "source": [
    "for i in range(1,5):\n",
    "    input_path = \"../Sequences_p/ml_pred/0\"+str(i)+\"/\"\n",
    "    output_path = \"../Sequences_p/ml_pred_alg_tra/0\"+str(i)+\"/\"\n",
    "    is_thresh = True\n",
    "    track_cells_in_folder(input_path, output_path, is_thresh)"
   ]
  },
  {
   "cell_type": "code",
   "execution_count": null,
   "metadata": {},
   "outputs": [],
   "source": [
    "# ws_labels_collection = load_images(output_path, -1)\n",
    "\n",
    "# i = 0\n",
    "# for ws_label in ws_labels_collection:\n",
    "#     total_cell_number, average_size = calculate_average_size_and_total_cell_number(ws_label)\n",
    "#     print(\"picture\"+ str(i) + \" total cell number: \" + str(total_cell_number) + \" average size: \" + str(average_size))\n",
    "#     i += 1"
   ]
  }
 ],
 "metadata": {
  "interpreter": {
   "hash": "4e2e4c4319a6b39057450a45281a04213ed13a733ae1e90156a6458396280193"
  },
  "kernelspec": {
   "display_name": "Python 3.8.8 64-bit ('base': conda)",
   "name": "python3"
  },
  "language_info": {
   "codemirror_mode": {
    "name": "ipython",
    "version": 3
   },
   "file_extension": ".py",
   "mimetype": "text/x-python",
   "name": "python",
   "nbconvert_exporter": "python",
   "pygments_lexer": "ipython3",
   "version": "3.8.8"
  },
  "orig_nbformat": 4
 },
 "nbformat": 4,
 "nbformat_minor": 2
}
