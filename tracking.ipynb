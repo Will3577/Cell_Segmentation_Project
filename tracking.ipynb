{
 "cells": [
  {
   "cell_type": "code",
   "execution_count": 2,
   "metadata": {},
   "outputs": [
    {
     "ename": "ModuleNotFoundError",
     "evalue": "No module named 'utility'",
     "output_type": "error",
     "traceback": [
      "\u001b[1;31m---------------------------------------------------------------------------\u001b[0m",
      "\u001b[1;31mModuleNotFoundError\u001b[0m                       Traceback (most recent call last)",
      "\u001b[1;32m<ipython-input-2-c636b051e137>\u001b[0m in \u001b[0;36m<module>\u001b[1;34m\u001b[0m\n\u001b[1;32m----> 1\u001b[1;33m \u001b[1;32mfrom\u001b[0m \u001b[0mutility\u001b[0m \u001b[1;32mimport\u001b[0m \u001b[1;33m*\u001b[0m\u001b[1;33m\u001b[0m\u001b[1;33m\u001b[0m\u001b[0m\n\u001b[0m\u001b[0;32m      2\u001b[0m \u001b[1;32mimport\u001b[0m \u001b[0mcv2\u001b[0m\u001b[1;33m\u001b[0m\u001b[1;33m\u001b[0m\u001b[0m\n\u001b[0;32m      3\u001b[0m \u001b[1;32mimport\u001b[0m \u001b[0mnumpy\u001b[0m \u001b[1;32mas\u001b[0m \u001b[0mnp\u001b[0m\u001b[1;33m\u001b[0m\u001b[1;33m\u001b[0m\u001b[0m\n\u001b[0;32m      4\u001b[0m \u001b[1;32mfrom\u001b[0m \u001b[0mmatplotlib\u001b[0m \u001b[1;32mimport\u001b[0m \u001b[0mpyplot\u001b[0m \u001b[1;32mas\u001b[0m \u001b[0mplt\u001b[0m\u001b[1;33m\u001b[0m\u001b[1;33m\u001b[0m\u001b[0m\n\u001b[0;32m      5\u001b[0m \u001b[1;32mfrom\u001b[0m \u001b[0mscipy\u001b[0m \u001b[1;32mimport\u001b[0m \u001b[0mndimage\u001b[0m \u001b[1;32mas\u001b[0m \u001b[0mndi\u001b[0m\u001b[1;33m\u001b[0m\u001b[1;33m\u001b[0m\u001b[0m\n",
      "\u001b[1;31mModuleNotFoundError\u001b[0m: No module named 'utility'"
     ]
    }
   ],
   "source": [
    "from utils import *\n",
    "import cv2\n",
    "import numpy as np\n",
    "from matplotlib import pyplot as plt\n",
    "from scipy import ndimage as ndi\n",
    "from skimage.morphology import watershed\n",
    "from skimage.feature import peak_local_max"
   ]
  },
  {
   "cell_type": "code",
   "execution_count": null,
   "metadata": {},
   "outputs": [],
   "source": [
    "# Flag is -1 to import the raw data\n",
    "image_list = load_images(1,-1)\n",
    "img_00 = image_list[0]\n",
    "\n",
    "low, high = find_extreme_value(img_00)\n",
    "\n",
    "print(low, high)\n",
    "\n",
    "# Optimization include removing border cells, and removing small dots\n",
    "thresh_00 = binarize_and_optimize_image(img_00, threshold_low=low + 80, threshold_high=65535)\n",
    "\n",
    "# 16 bit for vmin and vmax\n",
    "plt.imshow(thresh_00, cmap=\"gray\", vmin=0, vmax=65535)"
   ]
  },
  {
   "cell_type": "code",
   "execution_count": null,
   "metadata": {},
   "outputs": [],
   "source": [
    "# Watershed the first image\n",
    "distance = ndi.distance_transform_edt(thresh_00)\n",
    "peak_array = peak_local_max(distance, footprint=np.ones((3,3)), min_distance=20, labels=thresh_00)\n",
    "mask = np.zeros(distance.shape, dtype=bool)\n",
    "mask[tuple(peak_array.T)] = True\n",
    "markers, _ = ndi.label(mask)\n",
    "ws_labels_00 = watershed(-distance, markers, mask=thresh_00)\n",
    "plt.imshow(ws_labels_00)\n",
    "\n",
    "print(np.unique(ws_labels_00))"
   ]
  },
  {
   "cell_type": "code",
   "execution_count": null,
   "metadata": {},
   "outputs": [],
   "source": [
    "img_01 = image_list[1]\n",
    "\n",
    "low, high = find_extreme_value(img_01)\n",
    "\n",
    "print(low, high)\n",
    "\n",
    "# Optimization include removing border cells, and removing small dots\n",
    "thresh_01 = binarize_and_optimize_image(img_01, threshold_low=low + 80, threshold_high=65535)\n",
    "\n",
    "# 16 bit for vmin and vmax\n",
    "plt.imshow(thresh_01, cmap=\"gray\", vmin=0, vmax=65535)"
   ]
  },
  {
   "cell_type": "code",
   "execution_count": null,
   "metadata": {},
   "outputs": [],
   "source": [
    "# Watershed the second image\n",
    "distance = ndi.distance_transform_edt(thresh_01)\n",
    "peak_array = peak_local_max(distance, footprint=np.ones((3,3)), min_distance=20, labels=thresh_01)\n",
    "mask = np.zeros(distance.shape, dtype=bool)\n",
    "mask[tuple(peak_array.T)] = True\n",
    "markers, _ = ndi.label(mask)\n",
    "ws_labels_01 = watershed(-distance, markers, mask=thresh_01)\n",
    "plt.imshow(ws_labels_01)\n",
    "\n",
    "print(np.unique(ws_labels_01))"
   ]
  },
  {
   "cell_type": "code",
   "execution_count": null,
   "metadata": {},
   "outputs": [],
   "source": [
    "centroids = get_all_centroids(ws_labels_01)\n",
    "print(centroids)"
   ]
  }
 ],
 "metadata": {
  "interpreter": {
   "hash": "4e2e4c4319a6b39057450a45281a04213ed13a733ae1e90156a6458396280193"
  },
  "kernelspec": {
   "display_name": "Python 3.8.8 64-bit ('base': conda)",
   "name": "python3"
  },
  "language_info": {
   "codemirror_mode": {
    "name": "ipython",
    "version": 3
   },
   "file_extension": ".py",
   "mimetype": "text/x-python",
   "name": "python",
   "nbconvert_exporter": "python",
   "pygments_lexer": "ipython3",
   "version": "3.8.8"
  },
  "orig_nbformat": 4
 },
 "nbformat": 4,
 "nbformat_minor": 2
}
